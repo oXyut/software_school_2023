{
 "cells": [
  {
   "cell_type": "code",
   "execution_count": 1,
   "metadata": {},
   "outputs": [
    {
     "name": "stdout",
     "output_type": "stream",
     "text": [
      "Welcome to JupyROOT 6.28/00\n"
     ]
    }
   ],
   "source": [
    "import ROOT\n",
    "import array\n",
    "import os\n",
    "import glob\n",
    "\n",
    "def read_dat_file(file_name):\n",
    "    data = []\n",
    "    with open(file_name, 'r') as f:\n",
    "        for line in f:\n",
    "            if line.strip():\n",
    "                data.append(int(line.strip()))\n",
    "    return data\n",
    "\n",
    "# Specify the directory containing dat files\n",
    "directory = \"../data/MPPC_data/\"\n",
    "\n",
    "# Read all dat files in the directory\n",
    "data_files = glob.glob(os.path.join(directory, \"*.dat\"))\n",
    "\n",
    "# Create a new ROOT file\n",
    "root_file = ROOT.TFile(\"output.root\", \"RECREATE\")\n",
    "\n",
    "# Create a TTree\n",
    "tree = ROOT.TTree(\"MPPC\", \"MPPC\")\n",
    "\n",
    "# Loop over the data files and create branches\n",
    "branches = {}\n",
    "for file in data_files:\n",
    "    # Read data from the dat file\n",
    "    data = read_dat_file(file)\n",
    "\n",
    "    # Create a branch for this data\n",
    "    branch_name = os.path.splitext(os.path.basename(file))[0]\n",
    "    branches[branch_name] = {\n",
    "        \"data\": data,\n",
    "        \"array\": array.array('i', [0])\n",
    "    }\n",
    "    tree.Branch(branch_name, branches[branch_name][\"array\"], f\"{branch_name}/I\")\n",
    "\n",
    "# Determine the number of entries based on the smallest dataset\n",
    "n_entries = min([len(branch_data[\"data\"]) for branch_data in branches.values()])\n",
    "\n",
    "# Loop over the data and fill the branches\n",
    "for i in range(n_entries):\n",
    "    for branch_name, branch_data in branches.items():\n",
    "        branch_data[\"array\"][0] = branch_data[\"data\"][i]\n",
    "\n",
    "    tree.Fill()\n",
    "\n",
    "# Write the TTree to the output ROOT file\n",
    "tree.Write()\n",
    "root_file.Close()"
   ]
  }
 ],
 "metadata": {
  "kernelspec": {
   "display_name": "py310",
   "language": "python",
   "name": "python3"
  },
  "language_info": {
   "codemirror_mode": {
    "name": "ipython",
    "version": 3
   },
   "file_extension": ".py",
   "mimetype": "text/x-python",
   "name": "python",
   "nbconvert_exporter": "python",
   "pygments_lexer": "ipython3",
   "version": "3.10.8"
  },
  "orig_nbformat": 4
 },
 "nbformat": 4,
 "nbformat_minor": 2
}
