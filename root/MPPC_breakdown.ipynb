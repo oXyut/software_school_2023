{
 "cells": [
  {
   "cell_type": "code",
   "execution_count": 1,
   "metadata": {},
   "outputs": [
    {
     "name": "stdout",
     "output_type": "stream",
     "text": [
      "Welcome to JupyROOT 6.28/00\n"
     ]
    }
   ],
   "source": [
    "import os\n",
    "from glob import glob\n",
    "import numpy as np\n",
    "import pandas as pd\n",
    "import ROOT"
   ]
  },
  {
   "cell_type": "code",
   "execution_count": 2,
   "metadata": {},
   "outputs": [
    {
     "name": "stdout",
     "output_type": "stream",
     "text": [
      "['./fit_result/412.txt', './fit_result/414.txt', './fit_result/416.txt', './fit_result/418.txt', './fit_result/420.txt']\n"
     ]
    }
   ],
   "source": [
    "files = glob(\"./fit_result/*.txt\") # ここに各電圧のガウスフィットの結果をコピペしてある\n",
    "files.sort()\n",
    "print(files)"
   ]
  },
  {
   "cell_type": "code",
   "execution_count": 3,
   "metadata": {},
   "outputs": [
    {
     "name": "stdout",
     "output_type": "stream",
     "text": [
      "[0.162292 0.143039 0.130058 0.191513 0.18534  0.433787]\n",
      "[0.162292 0.143039 0.130058 0.191513 0.18534 ]\n",
      "[0.143039 0.130058 0.191513 0.18534  0.433787]\n",
      "[0.130057  0.118579  0.0979914 0.13264   0.153735  0.236268 ]\n",
      "[0.130057  0.118579  0.0979914 0.13264   0.153735 ]\n",
      "[0.118579  0.0979914 0.13264   0.153735  0.236268 ]\n",
      "[0.113194  0.093473  0.0958482 0.113046  0.283663  0.306579 ]\n",
      "[0.113194  0.093473  0.0958482 0.113046  0.283663 ]\n",
      "[0.093473  0.0958482 0.113046  0.283663  0.306579 ]\n",
      "[0.107194  0.0958058 0.102095  0.0981602 0.158077  0.215023 ]\n",
      "[0.107194  0.0958058 0.102095  0.0981602 0.158077 ]\n",
      "[0.0958058 0.102095  0.0981602 0.158077  0.215023 ]\n",
      "[0.103358  0.0815975 0.0947672 0.0942792 0.15715   0.185158 ]\n",
      "[0.103358  0.0815975 0.0947672 0.0942792 0.15715  ]\n",
      "[0.0815975 0.0947672 0.0942792 0.15715   0.185158 ]\n"
     ]
    },
    {
     "data": {
      "text/html": [
       "<div>\n",
       "<style scoped>\n",
       "    .dataframe tbody tr th:only-of-type {\n",
       "        vertical-align: middle;\n",
       "    }\n",
       "\n",
       "    .dataframe tbody tr th {\n",
       "        vertical-align: top;\n",
       "    }\n",
       "\n",
       "    .dataframe thead th {\n",
       "        text-align: right;\n",
       "    }\n",
       "</style>\n",
       "<table border=\"1\" class=\"dataframe\">\n",
       "  <thead>\n",
       "    <tr style=\"text-align: right;\">\n",
       "      <th></th>\n",
       "      <th>V</th>\n",
       "      <th>d</th>\n",
       "      <th>e_d</th>\n",
       "    </tr>\n",
       "  </thead>\n",
       "  <tbody>\n",
       "    <tr>\n",
       "      <th>0</th>\n",
       "      <td>41.2</td>\n",
       "      <td>12.653034</td>\n",
       "      <td>0.851444</td>\n",
       "    </tr>\n",
       "    <tr>\n",
       "      <th>1</th>\n",
       "      <td>41.4</td>\n",
       "      <td>13.572131</td>\n",
       "      <td>1.010324</td>\n",
       "    </tr>\n",
       "    <tr>\n",
       "      <th>2</th>\n",
       "      <td>41.6</td>\n",
       "      <td>14.141455</td>\n",
       "      <td>0.931724</td>\n",
       "    </tr>\n",
       "    <tr>\n",
       "      <th>3</th>\n",
       "      <td>41.8</td>\n",
       "      <td>15.397653</td>\n",
       "      <td>1.067000</td>\n",
       "    </tr>\n",
       "    <tr>\n",
       "      <th>4</th>\n",
       "      <td>42.0</td>\n",
       "      <td>16.147852</td>\n",
       "      <td>1.106655</td>\n",
       "    </tr>\n",
       "  </tbody>\n",
       "</table>\n",
       "</div>"
      ],
      "text/plain": [
       "      V          d       e_d\n",
       "0  41.2  12.653034  0.851444\n",
       "1  41.4  13.572131  1.010324\n",
       "2  41.6  14.141455  0.931724\n",
       "3  41.8  15.397653  1.067000\n",
       "4  42.0  16.147852  1.106655"
      ]
     },
     "execution_count": 3,
     "metadata": {},
     "output_type": "execute_result"
    }
   ],
   "source": [
    "Vs = []\n",
    "d_means = []\n",
    "d_mean_errors = []\n",
    "\n",
    "for file in files:\n",
    "    V = int(os.path.basename(file).replace(\".txt\", \"\"))/10\n",
    "    with open(file) as f:\n",
    "        lines = f.readlines()\n",
    "        # \"Mean\"が含まれる行を抽出\n",
    "        lines = [line for line in lines if \"Mean\" in line]\n",
    "        # 各行で\"Mean\"の直後の値(value)とその次の値(error)を抽出\n",
    "        values = [line.split()[2] for line in lines]\n",
    "        errors = [line.split()[3] for line in lines]\n",
    "\n",
    "        # 文字列をfloatに変換\n",
    "        values = np.array(list(map(float, values)))\n",
    "        errors = np.array(list(map(float, errors)))\n",
    "\n",
    "        # 隣り合う値の差dとその誤差e_dを計算\n",
    "        d = np.diff(values)\n",
    "        ed = np.sqrt(errors[:-1]**2 + errors[1:]**2)\n",
    "\n",
    "        # 誤差で加重平均を計算\n",
    "        mean = np.average(d, weights=1/ed)\n",
    "        # 誤差の和の平方根の逆数を計算\n",
    "        error = 1/np.sqrt(np.sum(ed))\n",
    "        # print(f\"{V=}, {mean=:.4f}, {error=:.4f}\")\n",
    "\n",
    "        Vs.append(V)\n",
    "        d_means.append(mean)\n",
    "        d_mean_errors.append(error)\n",
    "\n",
    "# データフレームを作成\n",
    "df = pd.DataFrame({\n",
    "    \"V\": Vs,\n",
    "    \"d\": d_means,\n",
    "    \"e_d\": d_mean_errors\n",
    "})\n",
    "\n",
    "df"
   ]
  },
  {
   "cell_type": "code",
   "execution_count": 4,
   "metadata": {},
   "outputs": [],
   "source": [
    "r = 0.25\n",
    "A = 100\n",
    "e = 1.602176634e-19 / 1e-12 # [C] -> [pC]\n",
    "\n",
    "G = (df[\"d\"] * r) / (A * e)\n",
    "e_G = (df[\"e_d\"] * r) / (A * e)\n",
    "df[\"G\"] = G\n",
    "df[\"e_G\"] = e_G"
   ]
  },
  {
   "cell_type": "code",
   "execution_count": 9,
   "metadata": {},
   "outputs": [
    {
     "name": "stdout",
     "output_type": "stream",
     "text": [
      "38.3206 +/- 20.0417\n",
      "\n",
      "****************************************\n",
      "Minimizer is Linear / Migrad\n",
      "Chi2                      =    0.0885366\n",
      "NDf                       =            3\n",
      "p0                        = -2.62073e+06   +/-   1.0076e+06  \n",
      "p1                        =      68389.6   +/-   24248       \n"
     ]
    },
    {
     "name": "stderr",
     "output_type": "stream",
     "text": [
      "Warning in <TCanvas::Constructor>: Deleting canvas with same name: c1\n"
     ]
    },
    {
     "data": {
      "image/png": "[encoded data removed]",
      "text/plain": [
       "<IPython.core.display.Image object>"
      ]
     },
     "metadata": {},
     "output_type": "display_data"
    }
   ],
   "source": [
    "# lenear fitting by PyROOT\n",
    "c1 = ROOT.TCanvas(\"c1\",\"A Simple Graph with error bars\", 800, 600)\n",
    "c1.SetGrid()\n",
    "\n",
    "gr = ROOT.TGraphErrors(\n",
    "    len(df[\"V\"]),\n",
    "    df[\"V\"].values, df[\"G\"].values,\n",
    "    np.zeros(len(df[\"V\"])), df[\"e_G\"].values\n",
    ")\n",
    "\n",
    "# blank title\n",
    "gr.SetTitle(\"\")\n",
    "# set axis title\n",
    "gr.GetXaxis().SetTitle(\"V [V]\")\n",
    "gr.GetYaxis().SetTitle(\"Gain\")\n",
    "# set axis range\n",
    "gr.GetXaxis().SetRangeUser(0, 5)\n",
    "gr.GetYaxis().SetRangeUser(180e3, 300e3)\n",
    "\n",
    "\n",
    "gr.SetMarkerColor(4)\n",
    "gr.SetMarkerStyle(21)\n",
    "\n",
    "gr.Fit(\"pol1\")\n",
    "\n",
    "gr.Draw(\"AP\")\n",
    "\n",
    "# get fit result\n",
    "fit = gr.GetFunction(\"pol1\")\n",
    "\n",
    "# p0: constant, p1: slope\n",
    "p0 = fit.GetParameter(0)\n",
    "p1 = fit.GetParameter(1)\n",
    "\n",
    "e_p0 = fit.GetParError(0)\n",
    "e_p1 = fit.GetParError(1)\n",
    "\n",
    "V_br = -p0/p1\n",
    "e_V_br = np.sqrt((e_p0/p1)**2 + (p0*e_p1/p1**2)**2)\n",
    "\n",
    "print(f\"{V_br:.4f} +/- {e_V_br:.4f}\") # 誤差でかくね？\n",
    "\n",
    "# draw text\n",
    "text = ROOT.TLatex()\n",
    "text.SetTextSize(0.04)\n",
    "text.DrawLatexNDC(0.2, 0.8, f\"V_{{br}} = {V_br:.4f} #pm {e_V_br:.4f} [V]\")\n",
    "\n",
    "# show fit panel\n",
    "ROOT.gStyle.SetOptFit(111)\n",
    "\n",
    "c1.Draw()"
   ]
  }
 ],
 "metadata": {
  "kernelspec": {
   "display_name": "py310",
   "language": "python",
   "name": "python3"
  },
  "language_info": {
   "codemirror_mode": {
    "name": "ipython",
    "version": 3
   },
   "file_extension": ".py",
   "mimetype": "text/x-python",
   "name": "python",
   "nbconvert_exporter": "python",
   "pygments_lexer": "ipython3",
   "version": "3.10.11"
  },
  "orig_nbformat": 4
 },
 "nbformat": 4,
 "nbformat_minor": 2
}
